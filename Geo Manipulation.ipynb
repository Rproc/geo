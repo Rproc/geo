{
 "cells": [
  {
   "cell_type": "code",
   "execution_count": 16,
   "metadata": {},
   "outputs": [],
   "source": [
    "import geopandas\n",
    "import fiona\n",
    "import matplotlib.pyplot as plt\n",
    "import geopy"
   ]
  },
  {
   "cell_type": "code",
   "execution_count": 2,
   "metadata": {},
   "outputs": [
    {
     "data": {
      "text/html": [
       "<div>\n",
       "<style scoped>\n",
       "    .dataframe tbody tr th:only-of-type {\n",
       "        vertical-align: middle;\n",
       "    }\n",
       "\n",
       "    .dataframe tbody tr th {\n",
       "        vertical-align: top;\n",
       "    }\n",
       "\n",
       "    .dataframe thead th {\n",
       "        text-align: right;\n",
       "    }\n",
       "</style>\n",
       "<table border=\"1\" class=\"dataframe\">\n",
       "  <thead>\n",
       "    <tr style=\"text-align: right;\">\n",
       "      <th></th>\n",
       "      <th>OBJECTID</th>\n",
       "      <th>UsoAgregad</th>\n",
       "      <th>Grupo</th>\n",
       "      <th>BaseGeoDBO</th>\n",
       "      <th>RuleID</th>\n",
       "      <th>Ano</th>\n",
       "      <th>RuleID_1</th>\n",
       "      <th>ShapeSTAre</th>\n",
       "      <th>ShapeSTLen</th>\n",
       "      <th>geometry</th>\n",
       "    </tr>\n",
       "  </thead>\n",
       "  <tbody>\n",
       "    <tr>\n",
       "      <th>0</th>\n",
       "      <td>1</td>\n",
       "      <td>Afloramentos rochosos e depósitos sedimentares</td>\n",
       "      <td>Áreas não urbanizadas</td>\n",
       "      <td>8188.561687</td>\n",
       "      <td>1</td>\n",
       "      <td>2018</td>\n",
       "      <td>Afloramentos rochosos e depósitos sedimentares</td>\n",
       "      <td>8188.565918</td>\n",
       "      <td>337.744461</td>\n",
       "      <td>POLYGON ((683594.243 7446263.712, 683562.743 7...</td>\n",
       "    </tr>\n",
       "    <tr>\n",
       "      <th>1</th>\n",
       "      <td>2</td>\n",
       "      <td>Afloramentos rochosos e depósitos sedimentares</td>\n",
       "      <td>Áreas não urbanizadas</td>\n",
       "      <td>1357.095898</td>\n",
       "      <td>1</td>\n",
       "      <td>2018</td>\n",
       "      <td>Afloramentos rochosos e depósitos sedimentares</td>\n",
       "      <td>1357.094727</td>\n",
       "      <td>159.078568</td>\n",
       "      <td>POLYGON ((646588.055 7446739.821, 646593.115 7...</td>\n",
       "    </tr>\n",
       "    <tr>\n",
       "      <th>2</th>\n",
       "      <td>3</td>\n",
       "      <td>Afloramentos rochosos e depósitos sedimentares</td>\n",
       "      <td>Áreas não urbanizadas</td>\n",
       "      <td>90180.373013</td>\n",
       "      <td>1</td>\n",
       "      <td>2018</td>\n",
       "      <td>Afloramentos rochosos e depósitos sedimentares</td>\n",
       "      <td>90180.374023</td>\n",
       "      <td>1716.454932</td>\n",
       "      <td>POLYGON ((647581.746 7446823.861, 647574.106 7...</td>\n",
       "    </tr>\n",
       "    <tr>\n",
       "      <th>3</th>\n",
       "      <td>4</td>\n",
       "      <td>Afloramentos rochosos e depósitos sedimentares</td>\n",
       "      <td>Áreas não urbanizadas</td>\n",
       "      <td>36392.080374</td>\n",
       "      <td>1</td>\n",
       "      <td>2018</td>\n",
       "      <td>Afloramentos rochosos e depósitos sedimentares</td>\n",
       "      <td>36392.085449</td>\n",
       "      <td>733.208879</td>\n",
       "      <td>POLYGON ((684643.345 7447154.513, 684594.184 7...</td>\n",
       "    </tr>\n",
       "    <tr>\n",
       "      <th>4</th>\n",
       "      <td>5</td>\n",
       "      <td>Afloramentos rochosos e depósitos sedimentares</td>\n",
       "      <td>Áreas não urbanizadas</td>\n",
       "      <td>1909.486647</td>\n",
       "      <td>1</td>\n",
       "      <td>2018</td>\n",
       "      <td>Afloramentos rochosos e depósitos sedimentares</td>\n",
       "      <td>1909.486816</td>\n",
       "      <td>176.367232</td>\n",
       "      <td>POLYGON ((648272.032 7447589.797, 648239.156 7...</td>\n",
       "    </tr>\n",
       "  </tbody>\n",
       "</table>\n",
       "</div>"
      ],
      "text/plain": [
       "   OBJECTID                                      UsoAgregad  \\\n",
       "0         1  Afloramentos rochosos e depósitos sedimentares   \n",
       "1         2  Afloramentos rochosos e depósitos sedimentares   \n",
       "2         3  Afloramentos rochosos e depósitos sedimentares   \n",
       "3         4  Afloramentos rochosos e depósitos sedimentares   \n",
       "4         5  Afloramentos rochosos e depósitos sedimentares   \n",
       "\n",
       "                   Grupo    BaseGeoDBO  RuleID   Ano  \\\n",
       "0  Áreas não urbanizadas   8188.561687       1  2018   \n",
       "1  Áreas não urbanizadas   1357.095898       1  2018   \n",
       "2  Áreas não urbanizadas  90180.373013       1  2018   \n",
       "3  Áreas não urbanizadas  36392.080374       1  2018   \n",
       "4  Áreas não urbanizadas   1909.486647       1  2018   \n",
       "\n",
       "                                         RuleID_1    ShapeSTAre   ShapeSTLen  \\\n",
       "0  Afloramentos rochosos e depósitos sedimentares   8188.565918   337.744461   \n",
       "1  Afloramentos rochosos e depósitos sedimentares   1357.094727   159.078568   \n",
       "2  Afloramentos rochosos e depósitos sedimentares  90180.374023  1716.454932   \n",
       "3  Afloramentos rochosos e depósitos sedimentares  36392.085449   733.208879   \n",
       "4  Afloramentos rochosos e depósitos sedimentares   1909.486816   176.367232   \n",
       "\n",
       "                                            geometry  \n",
       "0  POLYGON ((683594.243 7446263.712, 683562.743 7...  \n",
       "1  POLYGON ((646588.055 7446739.821, 646593.115 7...  \n",
       "2  POLYGON ((647581.746 7446823.861, 647574.106 7...  \n",
       "3  POLYGON ((684643.345 7447154.513, 684594.184 7...  \n",
       "4  POLYGON ((648272.032 7447589.797, 648239.156 7...  "
      ]
     },
     "execution_count": 2,
     "metadata": {},
     "output_type": "execute_result"
    }
   ],
   "source": [
    "countries_gdf = geopandas.read_file(\"Uso_do_Solo_2018.shp\",  encoding='utf-8')\n",
    "countries_gdf.head()"
   ]
  },
  {
   "cell_type": "code",
   "execution_count": 3,
   "metadata": {},
   "outputs": [
    {
     "data": {
      "text/plain": [
       "{'init': 'epsg:31983'}"
      ]
     },
     "execution_count": 3,
     "metadata": {},
     "output_type": "execute_result"
    }
   ],
   "source": [
    "countries_gdf.crs"
   ]
  },
  {
   "cell_type": "code",
   "execution_count": 4,
   "metadata": {},
   "outputs": [],
   "source": [
    "world = geopandas.read_file(geopandas.datasets.get_path('naturalearth_lowres'))"
   ]
  },
  {
   "cell_type": "code",
   "execution_count": 5,
   "metadata": {},
   "outputs": [],
   "source": [
    "capitals = geopandas.read_file(geopandas.datasets.get_path('naturalearth_cities'))"
   ]
  },
  {
   "cell_type": "code",
   "execution_count": 6,
   "metadata": {},
   "outputs": [],
   "source": [
    "countries = world[world['continent'] == \"South America\"]"
   ]
  },
  {
   "cell_type": "code",
   "execution_count": 7,
   "metadata": {},
   "outputs": [],
   "source": [
    "countries = countries[['geometry', 'name']]\n"
   ]
  },
  {
   "cell_type": "code",
   "execution_count": 8,
   "metadata": {},
   "outputs": [],
   "source": [
    "countries = countries.to_crs('+init=epsg:3395')\n",
    "capitals = capitals.to_crs('+init=epsg:3395')"
   ]
  },
  {
   "cell_type": "code",
   "execution_count": 9,
   "metadata": {},
   "outputs": [
    {
     "data": {
      "text/plain": [
       "<matplotlib.axes._subplots.AxesSubplot at 0x7fe29b213910>"
      ]
     },
     "execution_count": 9,
     "metadata": {},
     "output_type": "execute_result"
    },
    {
     "data": {
      "image/png": "[encoded data removed]",
      "text/plain": [
       "<Figure size 432x288 with 1 Axes>"
      ]
     },
     "metadata": {
      "needs_background": "light"
     },
     "output_type": "display_data"
    }
   ],
   "source": [
    "countries.plot()"
   ]
  },
  {
   "cell_type": "code",
   "execution_count": 10,
   "metadata": {},
   "outputs": [
    {
     "data": {
      "text/plain": [
       "'+init=epsg:3395'"
      ]
     },
     "execution_count": 10,
     "metadata": {},
     "output_type": "execute_result"
    }
   ],
   "source": [
    "# Now buffer cities to find area within 500km.\n",
    "# Check CRS -- World Mercator, units of meters.\n",
    "capitals.crs"
   ]
  },
  {
   "cell_type": "code",
   "execution_count": 11,
   "metadata": {},
   "outputs": [],
   "source": [
    "capitals['geometry']= capitals.buffer(500000)"
   ]
  },
  {
   "cell_type": "code",
   "execution_count": 12,
   "metadata": {},
   "outputs": [
    {
     "data": {
      "text/plain": [
       "<matplotlib.axes._subplots.AxesSubplot at 0x7fe29b29b090>"
      ]
     },
     "execution_count": 12,
     "metadata": {},
     "output_type": "execute_result"
    },
    {
     "data": {
      "image/png": "[encoded data removed]",
      "text/plain": [
       "<Figure size 432x288 with 1 Axes>"
      ]
     },
     "metadata": {
      "needs_background": "light"
     },
     "output_type": "display_data"
    }
   ],
   "source": [
    "capitals.plot()"
   ]
  },
  {
   "cell_type": "markdown",
   "metadata": {},
   "source": [
    "## GEO CODING"
   ]
  },
  {
   "cell_type": "code",
   "execution_count": 13,
   "metadata": {},
   "outputs": [],
   "source": [
    "boros = geopandas.read_file(geopandas.datasets.get_path(\"nybb\"))"
   ]
  },
  {
   "cell_type": "code",
   "execution_count": 14,
   "metadata": {},
   "outputs": [
    {
     "data": {
      "text/plain": [
       "0    Staten Island\n",
       "1           Queens\n",
       "2         Brooklyn\n",
       "3        Manhattan\n",
       "4            Bronx\n",
       "Name: BoroName, dtype: object"
      ]
     },
     "execution_count": 14,
     "metadata": {},
     "output_type": "execute_result"
    }
   ],
   "source": [
    "boros.BoroName"
   ]
  },
  {
   "cell_type": "code",
   "execution_count": 15,
   "metadata": {},
   "outputs": [],
   "source": [
    "boro_locations = geopandas.tools.geocode(boros.BoroName)"
   ]
  },
  {
   "cell_type": "code",
   "execution_count": 17,
   "metadata": {},
   "outputs": [
    {
     "data": {
      "text/html": [
       "<div>\n",
       "<style scoped>\n",
       "    .dataframe tbody tr th:only-of-type {\n",
       "        vertical-align: middle;\n",
       "    }\n",
       "\n",
       "    .dataframe tbody tr th {\n",
       "        vertical-align: top;\n",
       "    }\n",
       "\n",
       "    .dataframe thead th {\n",
       "        text-align: right;\n",
       "    }\n",
       "</style>\n",
       "<table border=\"1\" class=\"dataframe\">\n",
       "  <thead>\n",
       "    <tr style=\"text-align: right;\">\n",
       "      <th></th>\n",
       "      <th>geometry</th>\n",
       "      <th>address</th>\n",
       "    </tr>\n",
       "  </thead>\n",
       "  <tbody>\n",
       "    <tr>\n",
       "      <th>0</th>\n",
       "      <td>POINT (-74.15020 40.57954)</td>\n",
       "      <td>Staten Island, NY, USA</td>\n",
       "    </tr>\n",
       "    <tr>\n",
       "      <th>1</th>\n",
       "      <td>POINT (-73.79485 40.72823)</td>\n",
       "      <td>Queens, NY, USA</td>\n",
       "    </tr>\n",
       "    <tr>\n",
       "      <th>2</th>\n",
       "      <td>POINT (-73.94415 40.67818)</td>\n",
       "      <td>Brooklyn, NY, USA</td>\n",
       "    </tr>\n",
       "    <tr>\n",
       "      <th>3</th>\n",
       "      <td>POINT (-73.97124 40.78307)</td>\n",
       "      <td>Manhattan, New York, NY, USA</td>\n",
       "    </tr>\n",
       "    <tr>\n",
       "      <th>4</th>\n",
       "      <td>POINT (-73.86482 40.84479)</td>\n",
       "      <td>Bronx, NY, USA</td>\n",
       "    </tr>\n",
       "  </tbody>\n",
       "</table>\n",
       "</div>"
      ],
      "text/plain": [
       "                     geometry                       address\n",
       "0  POINT (-74.15020 40.57954)        Staten Island, NY, USA\n",
       "1  POINT (-73.79485 40.72823)               Queens, NY, USA\n",
       "2  POINT (-73.94415 40.67818)             Brooklyn, NY, USA\n",
       "3  POINT (-73.97124 40.78307)  Manhattan, New York, NY, USA\n",
       "4  POINT (-73.86482 40.84479)                Bronx, NY, USA"
      ]
     },
     "execution_count": 17,
     "metadata": {},
     "output_type": "execute_result"
    }
   ],
   "source": [
    "boro_locations"
   ]
  },
  {
   "cell_type": "code",
   "execution_count": 18,
   "metadata": {},
   "outputs": [
    {
     "data": {
      "text/plain": [
       "<matplotlib.axes._subplots.AxesSubplot at 0x7fe29b1bfed0>"
      ]
     },
     "execution_count": 18,
     "metadata": {},
     "output_type": "execute_result"
    },
    {
     "data": {
      "image/png": "[encoded data removed]",
      "text/plain": [
       "<Figure size 432x288 with 1 Axes>"
      ]
     },
     "metadata": {
      "needs_background": "light"
     },
     "output_type": "display_data"
    }
   ],
   "source": [
    "fig, ax = plt.subplots()\n",
    "boros.to_crs({\"init\": \"epsg:4326\"}).plot(ax=ax, color=\"white\", edgecolor=\"black\")\n",
    "boro_locations.plot(ax=ax, color=\"red\")"
   ]
  },
  {
   "cell_type": "code",
   "execution_count": null,
   "metadata": {},
   "outputs": [],
   "source": []
  }
 ],
 "metadata": {
  "kernelspec": {
   "display_name": "Python 3",
   "language": "python",
   "name": "python3"
  },
  "language_info": {
   "codemirror_mode": {
    "name": "ipython",
    "version": 3
   },
   "file_extension": ".py",
   "mimetype": "text/x-python",
   "name": "python",
   "nbconvert_exporter": "python",
   "pygments_lexer": "ipython3",
   "version": "3.7.4"
  }
 },
 "nbformat": 4,
 "nbformat_minor": 2
}
